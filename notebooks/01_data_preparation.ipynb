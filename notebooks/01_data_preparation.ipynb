{
 "cells": [
  {
   "cell_type": "code",
   "execution_count": null,
   "id": "a6f44d1f",
   "metadata": {},
   "outputs": [
    {
     "data": {
      "text/plain": [
       "(WindowsPath('../data/data_raw/OECD_IDD.csv'),\n",
       " WindowsPath('../data/data_raw/WB_INFECDB .csv'),\n",
       " True,\n",
       " False)"
      ]
     },
     "execution_count": 1,
     "metadata": {},
     "output_type": "execute_result"
    }
   ],
   "source": [
    "import pandas as pd\n",
    "import numpy as np\n",
    "from pathlib import Path\n",
    "\n",
    "pd.set_option(\"display.max_columns\", 100)\n",
    "pd.set_option(\"display.width\", 120)\n",
    "\n",
    "RAW_DIR = Path(\"../data/data_raw\")\n",
    "PROCESSED_DIR = Path(\"../data/data_processed\")\n",
    "\n",
    "income_path = RAW_DIR / \"OECD_IDD.csv\"      # rename to your exact file names\n",
    "informal_path = RAW_DIR / \"WB_INFECDB.csv\"\n",
    "\n",
    "income_path, informal_path, income_path.exists(), informal_path.exists()\n"
   ]
  }
 ],
 "metadata": {
  "kernelspec": {
   "display_name": "NDTA631 (venv)",
   "language": "python",
   "name": "ndta631"
  },
  "language_info": {
   "codemirror_mode": {
    "name": "ipython",
    "version": 3
   },
   "file_extension": ".py",
   "mimetype": "text/x-python",
   "name": "python",
   "nbconvert_exporter": "python",
   "pygments_lexer": "ipython3",
   "version": "3.13.5"
  }
 },
 "nbformat": 4,
 "nbformat_minor": 5
}
